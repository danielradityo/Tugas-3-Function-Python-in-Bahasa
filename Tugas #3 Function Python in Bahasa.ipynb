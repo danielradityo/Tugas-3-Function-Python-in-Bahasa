{
 "cells": [
  {
   "cell_type": "markdown",
   "metadata": {},
   "source": [
    "### Nomer 1\n",
    "\n",
    "**Mengecek apakah suatu kata palindrome atau bukan**\n",
    "\n",
    "Palindrom adalah sebuah kata, frasa, angka maupun susunan lainnya yang dapat dibaca dengan sama baik dari depan maupun belakang (spasi antara huruf-huruf biasanya diperbolehkan). \n",
    "\n",
    "Notes :\n",
    "- Jadikan sebuah fungsi (lebih baik)\n",
    "- Gunakan loop dan conditional statement\n",
    "\n",
    "Contoh hasil :\n",
    "\n",
    "> Input : cek_palindrome('wadidaw')\n",
    "\n",
    "> Output : 'Iya kata 'wadidaw', merupakan palindrome'"
   ]
  },
  {
   "cell_type": "code",
   "execution_count": 1,
   "metadata": {},
   "outputs": [],
   "source": [
    "def cek_palindrome(kata):\n",
    "    kata = kata.lower()\n",
    "    if kata == kata[::-1]:\n",
    "        print(f'Kata {kata} Merupakan Palindrome')\n",
    "    else:\n",
    "        print(f'Kata {kata} Bukan Palindrome')"
   ]
  },
  {
   "cell_type": "code",
   "execution_count": 2,
   "metadata": {},
   "outputs": [
    {
     "name": "stdout",
     "output_type": "stream",
     "text": [
      "Kata wadidaw Merupakan Palindrome\n"
     ]
    }
   ],
   "source": [
    "cek_palindrome('Wadidaw')"
   ]
  },
  {
   "cell_type": "code",
   "execution_count": 3,
   "metadata": {},
   "outputs": [
    {
     "name": "stdout",
     "output_type": "stream",
     "text": [
      "Silahkan masukan kata yang akan diuji: wadidaw\n",
      "wadidaw merupakan kata Palindrome\n"
     ]
    }
   ],
   "source": [
    "## Latihan:\n",
    "kata = str(input('Silahkan masukan kata yang akan diuji: '))\n",
    "\n",
    "def palindrome(kata):\n",
    "    kata1 = kata[::-1]\n",
    "    if kata == kata1:\n",
    "        print(kata, 'merupakan kata Palindrome')\n",
    "    else:\n",
    "        print(kata, 'bukan merupakan kata Palindrome')\n",
    "        \n",
    "palindrome(kata)"
   ]
  },
  {
   "cell_type": "markdown",
   "metadata": {},
   "source": [
    "### Nomer 2\n",
    "\n",
    "**Mendapatkan jumlah elemen dalam list tanpa menggunakan \"len\"**\n",
    "\n",
    "Notes : \n",
    "- Jadikan sebuah fungsi (lebih baik)\n",
    "- Gunakan loop\n",
    "\n",
    "Contoh :\n",
    "> Input : jumlah_elemen([1, 2, 3, 4, 5])\n",
    "\n",
    "> Output : 5"
   ]
  },
  {
   "cell_type": "code",
   "execution_count": 4,
   "metadata": {},
   "outputs": [],
   "source": [
    "def jumlah_elemen(sebuahList):\n",
    "    n = 0\n",
    "    for i in sebuahList:\n",
    "        n += 1\n",
    "    return n"
   ]
  },
  {
   "cell_type": "code",
   "execution_count": 5,
   "metadata": {},
   "outputs": [
    {
     "data": {
      "text/plain": [
       "10"
      ]
     },
     "execution_count": 5,
     "metadata": {},
     "output_type": "execute_result"
    }
   ],
   "source": [
    "listnya = [1,2,1,1,1,1,1,1,1,1]\n",
    "jumlah_elemen(listnya)"
   ]
  },
  {
   "cell_type": "code",
   "execution_count": 6,
   "metadata": {},
   "outputs": [],
   "source": [
    "## Latihan:\n",
    "def jumlah_elemen(sebuahList):\n",
    "    n = 0\n",
    "    for i in sebuahList:\n",
    "        n += 1\n",
    "    return n"
   ]
  },
  {
   "cell_type": "code",
   "execution_count": 7,
   "metadata": {},
   "outputs": [
    {
     "data": {
      "text/plain": [
       "5"
      ]
     },
     "execution_count": 7,
     "metadata": {},
     "output_type": "execute_result"
    }
   ],
   "source": [
    "jumlah_elemen([1, 2, 3, 4,5])"
   ]
  },
  {
   "cell_type": "markdown",
   "metadata": {},
   "source": [
    "### Nomer 3\n",
    "\n",
    "**Mendapatkan nilai maksimum suatu list tanpa menggunakan \"max\"**\n",
    "\n",
    "Notes :\n",
    "- Jadikan sebuah fungsi (lebih baik)\n",
    "- Gunakan loop dan conditional statement\n",
    "\n",
    "Contoh hasil :\n",
    "\n",
    "> Input : maksimal([2, 3, 5, 1, 9])\n",
    "\n",
    "> Output : 9"
   ]
  },
  {
   "cell_type": "code",
   "execution_count": 8,
   "metadata": {},
   "outputs": [],
   "source": [
    "## Latihan:\n",
    "def maksimal(sebuahList):\n",
    "    n = sebuahList[0]\n",
    "    for i in sebuahList:\n",
    "        if i > n:\n",
    "            n = i\n",
    "    return n"
   ]
  },
  {
   "cell_type": "code",
   "execution_count": 9,
   "metadata": {},
   "outputs": [
    {
     "data": {
      "text/plain": [
       "-1"
      ]
     },
     "execution_count": 9,
     "metadata": {},
     "output_type": "execute_result"
    }
   ],
   "source": [
    "maksimal([-1, -2, -3, -4, -5])"
   ]
  },
  {
   "cell_type": "markdown",
   "metadata": {},
   "source": [
    "### Nomer 4\n",
    "\n",
    "**Mendapatkan nilai minimal tanpa menggunakan \"min\"**\n",
    "\n",
    "Notes :\n",
    "- Jadikan sebuah fungsi (lebih baik)\n",
    "- Gunakan loop dan conditional statement\n",
    "\n",
    "Contoh hasil :\n",
    "\n",
    "> Input : minimal([2, 3, 5, 1, 9])\n",
    "\n",
    "> Output : 1"
   ]
  },
  {
   "cell_type": "code",
   "execution_count": 10,
   "metadata": {},
   "outputs": [],
   "source": [
    "## Latihan:\n",
    "def minimal(sebuahList):\n",
    "    n = sebuahList[0]\n",
    "    for i in sebuahList:\n",
    "        if i < n:\n",
    "            n = i\n",
    "    return n"
   ]
  },
  {
   "cell_type": "code",
   "execution_count": 11,
   "metadata": {},
   "outputs": [
    {
     "data": {
      "text/plain": [
       "-5"
      ]
     },
     "execution_count": 11,
     "metadata": {},
     "output_type": "execute_result"
    }
   ],
   "source": [
    "minimal([-1, -2, -3, -4, -5])"
   ]
  },
  {
   "cell_type": "markdown",
   "metadata": {},
   "source": [
    "### Nomer 5\n",
    "\n",
    "**Remove elemen yang terduplikasi dalam sebuah list, kemudian membuat list baru yang berisi elemen tanpa ada yang terduplikasi**\n",
    "\n",
    "Notes :\n",
    "Notes :\n",
    "- Jadikan sebuah fungsi (lebih baik)\n",
    "- Gunakan loop dan conditional statement\n",
    "\n",
    "Contoh hasil :\n",
    "\n",
    "> Input :  list_unik(['Jakarta', 'Bandung', 'Depok', 'Brau', 'Jakarta', 'Depok'])\n",
    "\n",
    "> Output : ['Jakarta', 'Bandung', 'Depok', 'Brau']"
   ]
  },
  {
   "cell_type": "code",
   "execution_count": 12,
   "metadata": {},
   "outputs": [],
   "source": [
    "## Latihan:\n",
    "def listscraping(list_unik):\n",
    "    list_baru = []\n",
    "    for i in list_unik:\n",
    "        if i not in list_baru:\n",
    "            list_baru.append(i)\n",
    "    return list_baru"
   ]
  },
  {
   "cell_type": "code",
   "execution_count": 13,
   "metadata": {},
   "outputs": [
    {
     "data": {
      "text/plain": [
       "['Jakarta', 'Bandung', 'Depok', 'Brau']"
      ]
     },
     "execution_count": 13,
     "metadata": {},
     "output_type": "execute_result"
    }
   ],
   "source": [
    "listscraping(['Jakarta', 'Bandung', 'Depok', 'Brau', 'Jakarta', 'Depok'])"
   ]
  }
 ],
 "metadata": {
  "kernelspec": {
   "display_name": "Python 3",
   "language": "python",
   "name": "python3"
  },
  "language_info": {
   "codemirror_mode": {
    "name": "ipython",
    "version": 3
   },
   "file_extension": ".py",
   "mimetype": "text/x-python",
   "name": "python",
   "nbconvert_exporter": "python",
   "pygments_lexer": "ipython3",
   "version": "3.8.5"
  }
 },
 "nbformat": 4,
 "nbformat_minor": 4
}
